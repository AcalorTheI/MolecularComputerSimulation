{
 "cells": [
  {
   "cell_type": "code",
   "execution_count": null,
   "id": "650bba44-7272-4689-9e77-31037c3315dd",
   "metadata": {},
   "outputs": [],
   "source": [
    "!pip install --upgrade \"qiskit[all]\" qiskit-nature qiskit-aer\n",
    "!pip install \"qiskit<2\" \n",
    "!pip install qiskit-optimization\n",
    "!pip install qiskit-finance\n"
   ]
  },
  {
   "cell_type": "code",
   "execution_count": 1,
   "id": "ffca157c-2050-49bf-8449-2971a2acaacc",
   "metadata": {},
   "outputs": [
    {
     "name": "stdout",
     "output_type": "stream",
     "text": [
      "\n",
      "== Classical Exact (NumPyMinimumEigensolver) ==\n",
      "Selection (1=invest): [0 1 1 0]   cost: -0.3205\n",
      "Picked asset indices: [1, 2]\n",
      "Expected return: 0.35\n",
      "Variance: 0.059\n",
      "\n",
      "== QAOA ==\n",
      "Selection (1=invest): [0 1 1 0]   cost: -0.3205\n",
      "Picked asset indices: [1, 2]\n",
      "Expected return: 0.35\n",
      "Variance: 0.059\n"
     ]
    }
   ],
   "source": [
    "import numpy as np\n",
    "\n",
    "from qiskit_finance.applications import PortfolioOptimization\n",
    "from qiskit_optimization.algorithms import MinimumEigenOptimizer\n",
    "from qiskit_algorithms import QAOA, NumPyMinimumEigensolver, SamplingVQE\n",
    "from qiskit_algorithms.optimizers import COBYLA\n",
    "from qiskit_aer.primitives import Sampler\n",
    "\n",
    "# ----- Your data -----\n",
    "mu = np.array([0.10, 0.20, 0.15, 0.12])\n",
    "sigma = np.array([\n",
    "    [ 0.005, -0.010,  0.004, -0.002],\n",
    "    [-0.010,  0.040, -0.002,  0.004],\n",
    "    [ 0.004, -0.002,  0.023,  0.002],\n",
    "    [-0.002,  0.004,  0.002,  0.015]\n",
    "])\n",
    "q = 0.5        # risk factor (λ)\n",
    "budget = 2     # select exactly 2 assets\n",
    "\n",
    "# ----- Build QuadraticProgram from the Finance app -----\n",
    "portfolio = PortfolioOptimization(\n",
    "    expected_returns=mu,\n",
    "    covariances=sigma,\n",
    "    risk_factor=q,\n",
    "    budget=budget\n",
    ")\n",
    "qp = portfolio.to_quadratic_program()   # penalty handled internally\n",
    "\n",
    "def show(result, title):\n",
    "    x = result.x.astype(int)\n",
    "    print(f\"\\n== {title} ==\")\n",
    "    print(\"Selection (1=invest):\", x, \"  cost:\", result.fval)\n",
    "    print(\"Picked asset indices:\", [i for i, v in enumerate(x) if v == 1])\n",
    "    # optional: report portfolio stats\n",
    "    print(\"Expected return:\", float(mu @ x))\n",
    "    print(\"Variance:\", float(x @ sigma @ x))\n",
    "\n",
    "# ----- Classical reference (exact on CPU) -----\n",
    "exact = MinimumEigenOptimizer(NumPyMinimumEigensolver())\n",
    "res_exact = exact.solve(qp)\n",
    "show(res_exact, \"Classical Exact (NumPyMinimumEigensolver)\")\n",
    "\n",
    "# ----- QAOA (Sampler primitive) -----\n",
    "sampler = Sampler()\n",
    "qaoa = QAOA(sampler=sampler, optimizer=COBYLA(maxiter=250), reps=3)\n",
    "qaoa_solver = MinimumEigenOptimizer(qaoa)\n",
    "res_qaoa = qaoa_solver.solve(qp)\n",
    "show(res_qaoa, \"QAOA\")\n"
   ]
  }
 ],
 "metadata": {
  "kernelspec": {
   "display_name": "Python 3 (ipykernel)",
   "language": "python",
   "name": "python3"
  },
  "language_info": {
   "codemirror_mode": {
    "name": "ipython",
    "version": 3
   },
   "file_extension": ".py",
   "mimetype": "text/x-python",
   "name": "python",
   "nbconvert_exporter": "python",
   "pygments_lexer": "ipython3",
   "version": "3.13.2"
  }
 },
 "nbformat": 4,
 "nbformat_minor": 5
}
